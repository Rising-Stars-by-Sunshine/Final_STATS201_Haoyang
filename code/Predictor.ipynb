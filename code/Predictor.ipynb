{
  "nbformat": 4,
  "nbformat_minor": 0,
  "metadata": {
    "colab": {
      "provenance": []
    },
    "kernelspec": {
      "name": "python3",
      "display_name": "Python 3"
    },
    "language_info": {
      "name": "python"
    }
  },
  "cells": [
    {
      "cell_type": "code",
      "execution_count": 58,
      "metadata": {
        "id": "QS9Ord6zKago"
      },
      "outputs": [],
      "source": [
        "import pandas as pd\n",
        "import matplotlib.pyplot as plt\n",
        "import seaborn as sns\n",
        "from statsmodels.graphics.tsaplots import plot_acf, plot_pacf\n",
        "from statsmodels.tsa.arima.model import ARIMA\n",
        "import numpy as np\n",
        "import math"
      ]
    },
    {
      "cell_type": "code",
      "source": [
        "df = pd.read_csv('https://raw.githubusercontent.com/Rising-Stars-by-Sunshine/Final_STATS201_Haoyang/main/data/EAFE%20Standard.csv', index_col=0, parse_dates=[0])\n",
        "de = pd.read_csv('https://raw.githubusercontent.com/Rising-Stars-by-Sunshine/Final_STATS201_Haoyang/main/data/MSCI%20China%20ESG%20Leaders%20Index%20Standard.csv', index_col=0, parse_dates=[0])"
      ],
      "metadata": {
        "id": "GNZkF-tLKctm"
      },
      "execution_count": 24,
      "outputs": []
    },
    {
      "cell_type": "code",
      "source": [
        "df.head()"
      ],
      "metadata": {
        "colab": {
          "base_uri": "https://localhost:8080/",
          "height": 238
        },
        "id": "OogLY26jb3ED",
        "outputId": "f20bb30c-6915-44d6-b463-3d631286e071"
      },
      "execution_count": 25,
      "outputs": [
        {
          "output_type": "execute_result",
          "data": {
            "text/plain": [
              "           EAFE Standard (Large+Mid Cap)  Return Rate  Unnamed: 3  Unnamed: 4  \\\n",
              "Date                                                                            \n",
              "2018-12-11                     5,314.294     0.004362         NaN         NaN   \n",
              "2018-12-12                     5,421.503     0.020174         NaN         NaN   \n",
              "2018-12-13                     5,416.665    -0.000892         NaN         NaN   \n",
              "2018-12-14                     5,353.376    -0.011684         NaN         NaN   \n",
              "2018-12-17                     5,339.569    -0.002579         NaN         NaN   \n",
              "\n",
              "            Unnamed: 5  \n",
              "Date                    \n",
              "2018-12-11         NaN  \n",
              "2018-12-12         NaN  \n",
              "2018-12-13         NaN  \n",
              "2018-12-14         NaN  \n",
              "2018-12-17         NaN  "
            ],
            "text/html": [
              "\n",
              "  <div id=\"df-b758fc68-e24b-4d1d-be1f-1c3a32c70bf1\">\n",
              "    <div class=\"colab-df-container\">\n",
              "      <div>\n",
              "<style scoped>\n",
              "    .dataframe tbody tr th:only-of-type {\n",
              "        vertical-align: middle;\n",
              "    }\n",
              "\n",
              "    .dataframe tbody tr th {\n",
              "        vertical-align: top;\n",
              "    }\n",
              "\n",
              "    .dataframe thead th {\n",
              "        text-align: right;\n",
              "    }\n",
              "</style>\n",
              "<table border=\"1\" class=\"dataframe\">\n",
              "  <thead>\n",
              "    <tr style=\"text-align: right;\">\n",
              "      <th></th>\n",
              "      <th>EAFE Standard (Large+Mid Cap)</th>\n",
              "      <th>Return Rate</th>\n",
              "      <th>Unnamed: 3</th>\n",
              "      <th>Unnamed: 4</th>\n",
              "      <th>Unnamed: 5</th>\n",
              "    </tr>\n",
              "    <tr>\n",
              "      <th>Date</th>\n",
              "      <th></th>\n",
              "      <th></th>\n",
              "      <th></th>\n",
              "      <th></th>\n",
              "      <th></th>\n",
              "    </tr>\n",
              "  </thead>\n",
              "  <tbody>\n",
              "    <tr>\n",
              "      <th>2018-12-11</th>\n",
              "      <td>5,314.294</td>\n",
              "      <td>0.004362</td>\n",
              "      <td>NaN</td>\n",
              "      <td>NaN</td>\n",
              "      <td>NaN</td>\n",
              "    </tr>\n",
              "    <tr>\n",
              "      <th>2018-12-12</th>\n",
              "      <td>5,421.503</td>\n",
              "      <td>0.020174</td>\n",
              "      <td>NaN</td>\n",
              "      <td>NaN</td>\n",
              "      <td>NaN</td>\n",
              "    </tr>\n",
              "    <tr>\n",
              "      <th>2018-12-13</th>\n",
              "      <td>5,416.665</td>\n",
              "      <td>-0.000892</td>\n",
              "      <td>NaN</td>\n",
              "      <td>NaN</td>\n",
              "      <td>NaN</td>\n",
              "    </tr>\n",
              "    <tr>\n",
              "      <th>2018-12-14</th>\n",
              "      <td>5,353.376</td>\n",
              "      <td>-0.011684</td>\n",
              "      <td>NaN</td>\n",
              "      <td>NaN</td>\n",
              "      <td>NaN</td>\n",
              "    </tr>\n",
              "    <tr>\n",
              "      <th>2018-12-17</th>\n",
              "      <td>5,339.569</td>\n",
              "      <td>-0.002579</td>\n",
              "      <td>NaN</td>\n",
              "      <td>NaN</td>\n",
              "      <td>NaN</td>\n",
              "    </tr>\n",
              "  </tbody>\n",
              "</table>\n",
              "</div>\n",
              "      <button class=\"colab-df-convert\" onclick=\"convertToInteractive('df-b758fc68-e24b-4d1d-be1f-1c3a32c70bf1')\"\n",
              "              title=\"Convert this dataframe to an interactive table.\"\n",
              "              style=\"display:none;\">\n",
              "        \n",
              "  <svg xmlns=\"http://www.w3.org/2000/svg\" height=\"24px\"viewBox=\"0 0 24 24\"\n",
              "       width=\"24px\">\n",
              "    <path d=\"M0 0h24v24H0V0z\" fill=\"none\"/>\n",
              "    <path d=\"M18.56 5.44l.94 2.06.94-2.06 2.06-.94-2.06-.94-.94-2.06-.94 2.06-2.06.94zm-11 1L8.5 8.5l.94-2.06 2.06-.94-2.06-.94L8.5 2.5l-.94 2.06-2.06.94zm10 10l.94 2.06.94-2.06 2.06-.94-2.06-.94-.94-2.06-.94 2.06-2.06.94z\"/><path d=\"M17.41 7.96l-1.37-1.37c-.4-.4-.92-.59-1.43-.59-.52 0-1.04.2-1.43.59L10.3 9.45l-7.72 7.72c-.78.78-.78 2.05 0 2.83L4 21.41c.39.39.9.59 1.41.59.51 0 1.02-.2 1.41-.59l7.78-7.78 2.81-2.81c.8-.78.8-2.07 0-2.86zM5.41 20L4 18.59l7.72-7.72 1.47 1.35L5.41 20z\"/>\n",
              "  </svg>\n",
              "      </button>\n",
              "      \n",
              "  <style>\n",
              "    .colab-df-container {\n",
              "      display:flex;\n",
              "      flex-wrap:wrap;\n",
              "      gap: 12px;\n",
              "    }\n",
              "\n",
              "    .colab-df-convert {\n",
              "      background-color: #E8F0FE;\n",
              "      border: none;\n",
              "      border-radius: 50%;\n",
              "      cursor: pointer;\n",
              "      display: none;\n",
              "      fill: #1967D2;\n",
              "      height: 32px;\n",
              "      padding: 0 0 0 0;\n",
              "      width: 32px;\n",
              "    }\n",
              "\n",
              "    .colab-df-convert:hover {\n",
              "      background-color: #E2EBFA;\n",
              "      box-shadow: 0px 1px 2px rgba(60, 64, 67, 0.3), 0px 1px 3px 1px rgba(60, 64, 67, 0.15);\n",
              "      fill: #174EA6;\n",
              "    }\n",
              "\n",
              "    [theme=dark] .colab-df-convert {\n",
              "      background-color: #3B4455;\n",
              "      fill: #D2E3FC;\n",
              "    }\n",
              "\n",
              "    [theme=dark] .colab-df-convert:hover {\n",
              "      background-color: #434B5C;\n",
              "      box-shadow: 0px 1px 3px 1px rgba(0, 0, 0, 0.15);\n",
              "      filter: drop-shadow(0px 1px 2px rgba(0, 0, 0, 0.3));\n",
              "      fill: #FFFFFF;\n",
              "    }\n",
              "  </style>\n",
              "\n",
              "      <script>\n",
              "        const buttonEl =\n",
              "          document.querySelector('#df-b758fc68-e24b-4d1d-be1f-1c3a32c70bf1 button.colab-df-convert');\n",
              "        buttonEl.style.display =\n",
              "          google.colab.kernel.accessAllowed ? 'block' : 'none';\n",
              "\n",
              "        async function convertToInteractive(key) {\n",
              "          const element = document.querySelector('#df-b758fc68-e24b-4d1d-be1f-1c3a32c70bf1');\n",
              "          const dataTable =\n",
              "            await google.colab.kernel.invokeFunction('convertToInteractive',\n",
              "                                                     [key], {});\n",
              "          if (!dataTable) return;\n",
              "\n",
              "          const docLinkHtml = 'Like what you see? Visit the ' +\n",
              "            '<a target=\"_blank\" href=https://colab.research.google.com/notebooks/data_table.ipynb>data table notebook</a>'\n",
              "            + ' to learn more about interactive tables.';\n",
              "          element.innerHTML = '';\n",
              "          dataTable['output_type'] = 'display_data';\n",
              "          await google.colab.output.renderOutput(dataTable, element);\n",
              "          const docLink = document.createElement('div');\n",
              "          docLink.innerHTML = docLinkHtml;\n",
              "          element.appendChild(docLink);\n",
              "        }\n",
              "      </script>\n",
              "    </div>\n",
              "  </div>\n",
              "  "
            ]
          },
          "metadata": {},
          "execution_count": 25
        }
      ]
    },
    {
      "cell_type": "code",
      "source": [
        "de.head"
      ],
      "metadata": {
        "colab": {
          "base_uri": "https://localhost:8080/"
        },
        "id": "Qw43Qf4Tb4Sk",
        "outputId": "cbebc98e-5eb2-4171-9dcf-9f80cb757b08"
      },
      "execution_count": 26,
      "outputs": [
        {
          "output_type": "execute_result",
          "data": {
            "text/plain": [
              "<bound method NDFrame.head of            MSCI China ESG Leaders Index Standard (Large+Mid Cap)  Return Rate\n",
              "Date                                                                         \n",
              "2018-12-11                                          1,357.273        0.005908\n",
              "2018-12-12                                          1,372.668        0.011343\n",
              "2018-12-13                                          1,384.649        0.008728\n",
              "2018-12-14                                          1,354.181       -0.022004\n",
              "2018-12-17                                          1,338.178       -0.011817\n",
              "...                                                       ...             ...\n",
              "2022-12-05                                          1,265.738        0.056258\n",
              "2022-12-06                                          1,253.122       -0.009967\n",
              "2022-12-07                                          1,210.445       -0.034057\n",
              "2022-12-08                                          1,265.040        0.045103\n",
              "2022-12-09                                          1,298.828        0.026709\n",
              "\n",
              "[1044 rows x 2 columns]>"
            ]
          },
          "metadata": {},
          "execution_count": 26
        }
      ]
    },
    {
      "cell_type": "code",
      "source": [
        "stock_week = (df['Return Rate']-de['Return Rate']).resample(\"M\").mean()"
      ],
      "metadata": {
        "id": "5V4K7o8UO_bM"
      },
      "execution_count": 65,
      "outputs": []
    },
    {
      "cell_type": "code",
      "source": [
        "stock_week"
      ],
      "metadata": {
        "colab": {
          "base_uri": "https://localhost:8080/"
        },
        "id": "dZLzkxtCeBu7",
        "outputId": "0f4f9ffd-5f29-4bcd-96c9-fe8d48af86a6"
      },
      "execution_count": 66,
      "outputs": [
        {
          "output_type": "execute_result",
          "data": {
            "text/plain": [
              "Date\n",
              "2018-12-31    1.463007e-03\n",
              "2019-01-31   -2.807932e-03\n",
              "2019-02-28    8.121800e-07\n",
              "2019-03-31   -1.260306e-03\n",
              "2019-04-30   -3.113747e-04\n",
              "2019-05-31    4.779968e-03\n",
              "2019-06-30   -1.379082e-03\n",
              "2019-07-31   -9.846605e-04\n",
              "2019-08-31    7.619587e-04\n",
              "2019-09-30    1.658092e-03\n",
              "2019-10-31   -1.398777e-04\n",
              "2019-11-30   -1.647895e-03\n",
              "2019-12-31   -2.399940e-03\n",
              "2020-01-31    7.194232e-04\n",
              "2020-02-29   -5.666929e-03\n",
              "2020-03-31   -4.058854e-03\n",
              "2020-04-30   -3.323286e-05\n",
              "2020-05-31    1.851776e-03\n",
              "2020-06-30   -2.939456e-03\n",
              "2020-07-31   -3.377223e-03\n",
              "2020-08-31   -1.001460e-03\n",
              "2020-09-30   -5.573057e-04\n",
              "2020-10-31   -5.668551e-03\n",
              "2020-11-30    7.802075e-03\n",
              "2020-12-31    2.520422e-03\n",
              "2021-01-31   -6.146535e-03\n",
              "2021-02-28    2.871798e-03\n",
              "2021-03-31    3.239179e-03\n",
              "2021-04-30    4.280298e-04\n",
              "2021-05-31    1.770523e-03\n",
              "2021-06-30   -1.279516e-03\n",
              "2021-07-31    6.961446e-03\n",
              "2021-08-31    1.337121e-03\n",
              "2021-09-30    1.704540e-03\n",
              "2021-10-31   -1.490214e-03\n",
              "2021-11-30    1.764776e-03\n",
              "2021-12-31    3.803095e-03\n",
              "2022-01-31   -1.445396e-03\n",
              "2022-02-28    2.455412e-03\n",
              "2022-03-31    2.260644e-03\n",
              "2022-04-30   -1.198939e-03\n",
              "2022-05-31   -5.353677e-05\n",
              "2022-06-30   -6.801732e-03\n",
              "2022-07-31    7.897869e-03\n",
              "2022-08-31   -2.150527e-03\n",
              "2022-09-30    3.483212e-03\n",
              "2022-10-31    1.235186e-02\n",
              "2022-11-30   -8.277610e-03\n",
              "2022-12-31   -1.176297e-02\n",
              "Freq: M, Name: Return Rate, dtype: float64"
            ]
          },
          "metadata": {},
          "execution_count": 66
        }
      ]
    },
    {
      "cell_type": "code",
      "source": [
        "stock_train = stock_week['2018-12-31':'2021-12-31'].dropna()"
      ],
      "metadata": {
        "id": "GJ8Gli-JPtwQ"
      },
      "execution_count": 67,
      "outputs": []
    },
    {
      "cell_type": "code",
      "source": [
        "stock_train "
      ],
      "metadata": {
        "colab": {
          "base_uri": "https://localhost:8080/"
        },
        "id": "Kj_gVG7rPwh4",
        "outputId": "632eea25-1ed8-416b-f171-0fcff738ea7a"
      },
      "execution_count": 68,
      "outputs": [
        {
          "output_type": "execute_result",
          "data": {
            "text/plain": [
              "Date\n",
              "2018-12-31    1.463007e-03\n",
              "2019-01-31   -2.807932e-03\n",
              "2019-02-28    8.121800e-07\n",
              "2019-03-31   -1.260306e-03\n",
              "2019-04-30   -3.113747e-04\n",
              "2019-05-31    4.779968e-03\n",
              "2019-06-30   -1.379082e-03\n",
              "2019-07-31   -9.846605e-04\n",
              "2019-08-31    7.619587e-04\n",
              "2019-09-30    1.658092e-03\n",
              "2019-10-31   -1.398777e-04\n",
              "2019-11-30   -1.647895e-03\n",
              "2019-12-31   -2.399940e-03\n",
              "2020-01-31    7.194232e-04\n",
              "2020-02-29   -5.666929e-03\n",
              "2020-03-31   -4.058854e-03\n",
              "2020-04-30   -3.323286e-05\n",
              "2020-05-31    1.851776e-03\n",
              "2020-06-30   -2.939456e-03\n",
              "2020-07-31   -3.377223e-03\n",
              "2020-08-31   -1.001460e-03\n",
              "2020-09-30   -5.573057e-04\n",
              "2020-10-31   -5.668551e-03\n",
              "2020-11-30    7.802075e-03\n",
              "2020-12-31    2.520422e-03\n",
              "2021-01-31   -6.146535e-03\n",
              "2021-02-28    2.871798e-03\n",
              "2021-03-31    3.239179e-03\n",
              "2021-04-30    4.280298e-04\n",
              "2021-05-31    1.770523e-03\n",
              "2021-06-30   -1.279516e-03\n",
              "2021-07-31    6.961446e-03\n",
              "2021-08-31    1.337121e-03\n",
              "2021-09-30    1.704540e-03\n",
              "2021-10-31   -1.490214e-03\n",
              "2021-11-30    1.764776e-03\n",
              "2021-12-31    3.803095e-03\n",
              "Freq: M, Name: Return Rate, dtype: float64"
            ]
          },
          "metadata": {},
          "execution_count": 68
        }
      ]
    },
    {
      "cell_type": "code",
      "source": [
        "stock_train.plot(figsize=(12,8))"
      ],
      "metadata": {
        "colab": {
          "base_uri": "https://localhost:8080/",
          "height": 526
        },
        "id": "quKHfwNsPzGb",
        "outputId": "a3763b77-d802-4cdb-8bee-e99275164496"
      },
      "execution_count": 69,
      "outputs": [
        {
          "output_type": "execute_result",
          "data": {
            "text/plain": [
              "<matplotlib.axes._subplots.AxesSubplot at 0x7fd4ea5bb9d0>"
            ]
          },
          "metadata": {},
          "execution_count": 69
        },
        {
          "output_type": "display_data",
          "data": {
            "text/plain": [
              "<Figure size 864x576 with 1 Axes>"
            ],
            "image/png": "[encoded data removed]"
          },
          "metadata": {
            "needs_background": "light"
          }
        }
      ]
    },
    {
      "cell_type": "code",
      "source": [
        "model = ARIMA(stock_train, order=(2, 0, 2))"
      ],
      "metadata": {
        "id": "J1UO7WYwP1Vh"
      },
      "execution_count": 70,
      "outputs": []
    },
    {
      "cell_type": "code",
      "source": [
        "result = model.fit()"
      ],
      "metadata": {
        "colab": {
          "base_uri": "https://localhost:8080/"
        },
        "id": "tfQAoVGgP3Be",
        "outputId": "e975cd68-622d-47df-9d85-bfd7eed70ce0"
      },
      "execution_count": 71,
      "outputs": [
        {
          "output_type": "stream",
          "name": "stderr",
          "text": [
            "/usr/local/lib/python3.8/dist-packages/statsmodels/base/model.py:566: ConvergenceWarning: Maximum Likelihood optimization failed to converge. Check mle_retvals\n",
            "  warnings.warn(\"Maximum Likelihood optimization failed to \"\n"
          ]
        }
      ]
    },
    {
      "cell_type": "code",
      "source": [
        "result.summary()"
      ],
      "metadata": {
        "colab": {
          "base_uri": "https://localhost:8080/",
          "height": 494
        },
        "id": "fwYreIGdP4cL",
        "outputId": "f4d9364e-08cb-4875-8bdc-e518a4d87dfb"
      },
      "execution_count": 72,
      "outputs": [
        {
          "output_type": "execute_result",
          "data": {
            "text/plain": [
              "<class 'statsmodels.iolib.summary.Summary'>\n",
              "\"\"\"\n",
              "                               SARIMAX Results                                \n",
              "==============================================================================\n",
              "Dep. Variable:            Return Rate   No. Observations:                   37\n",
              "Model:                 ARIMA(2, 0, 2)   Log Likelihood                 161.356\n",
              "Date:                Tue, 13 Dec 2022   AIC                           -310.712\n",
              "Time:                        07:55:29   BIC                           -301.046\n",
              "Sample:                    12-31-2018   HQIC                          -307.304\n",
              "                         - 12-31-2021                                         \n",
              "Covariance Type:                  opg                                         \n",
              "==============================================================================\n",
              "                 coef    std err          z      P>|z|      [0.025      0.975]\n",
              "------------------------------------------------------------------------------\n",
              "const       2.957e-05      0.000      0.067      0.947      -0.001       0.001\n",
              "ar.L1          0.2914      1.815      0.161      0.872      -3.267       3.849\n",
              "ar.L2         -0.3056      1.222     -0.250      0.803      -2.701       2.090\n",
              "ma.L1         -0.4040      1.867     -0.216      0.829      -4.063       3.255\n",
              "ma.L2          0.1677      1.443      0.116      0.907      -2.660       2.995\n",
              "sigma2      9.504e-06   2.69e-06      3.532      0.000    4.23e-06    1.48e-05\n",
              "===================================================================================\n",
              "Ljung-Box (L1) (Q):                   0.27   Jarque-Bera (JB):                 0.14\n",
              "Prob(Q):                              0.61   Prob(JB):                         0.93\n",
              "Heteroskedasticity (H):               3.35   Skew:                             0.15\n",
              "Prob(H) (two-sided):                  0.05   Kurtosis:                         3.01\n",
              "===================================================================================\n",
              "\n",
              "Warnings:\n",
              "[1] Covariance matrix calculated using the outer product of gradients (complex-step).\n",
              "\"\"\""
            ],
            "text/html": [
              "<table class=\"simpletable\">\n",
              "<caption>SARIMAX Results</caption>\n",
              "<tr>\n",
              "  <th>Dep. Variable:</th>      <td>Return Rate</td>   <th>  No. Observations:  </th>    <td>37</td>   \n",
              "</tr>\n",
              "<tr>\n",
              "  <th>Model:</th>            <td>ARIMA(2, 0, 2)</td>  <th>  Log Likelihood     </th>  <td>161.356</td>\n",
              "</tr>\n",
              "<tr>\n",
              "  <th>Date:</th>            <td>Tue, 13 Dec 2022</td> <th>  AIC                </th> <td>-310.712</td>\n",
              "</tr>\n",
              "<tr>\n",
              "  <th>Time:</th>                <td>07:55:29</td>     <th>  BIC                </th> <td>-301.046</td>\n",
              "</tr>\n",
              "<tr>\n",
              "  <th>Sample:</th>             <td>12-31-2018</td>    <th>  HQIC               </th> <td>-307.304</td>\n",
              "</tr>\n",
              "<tr>\n",
              "  <th></th>                   <td>- 12-31-2021</td>   <th>                     </th>     <td> </td>   \n",
              "</tr>\n",
              "<tr>\n",
              "  <th>Covariance Type:</th>        <td>opg</td>       <th>                     </th>     <td> </td>   \n",
              "</tr>\n",
              "</table>\n",
              "<table class=\"simpletable\">\n",
              "<tr>\n",
              "     <td></td>       <th>coef</th>     <th>std err</th>      <th>z</th>      <th>P>|z|</th>  <th>[0.025</th>    <th>0.975]</th>  \n",
              "</tr>\n",
              "<tr>\n",
              "  <th>const</th>  <td> 2.957e-05</td> <td>    0.000</td> <td>    0.067</td> <td> 0.947</td> <td>   -0.001</td> <td>    0.001</td>\n",
              "</tr>\n",
              "<tr>\n",
              "  <th>ar.L1</th>  <td>    0.2914</td> <td>    1.815</td> <td>    0.161</td> <td> 0.872</td> <td>   -3.267</td> <td>    3.849</td>\n",
              "</tr>\n",
              "<tr>\n",
              "  <th>ar.L2</th>  <td>   -0.3056</td> <td>    1.222</td> <td>   -0.250</td> <td> 0.803</td> <td>   -2.701</td> <td>    2.090</td>\n",
              "</tr>\n",
              "<tr>\n",
              "  <th>ma.L1</th>  <td>   -0.4040</td> <td>    1.867</td> <td>   -0.216</td> <td> 0.829</td> <td>   -4.063</td> <td>    3.255</td>\n",
              "</tr>\n",
              "<tr>\n",
              "  <th>ma.L2</th>  <td>    0.1677</td> <td>    1.443</td> <td>    0.116</td> <td> 0.907</td> <td>   -2.660</td> <td>    2.995</td>\n",
              "</tr>\n",
              "<tr>\n",
              "  <th>sigma2</th> <td> 9.504e-06</td> <td> 2.69e-06</td> <td>    3.532</td> <td> 0.000</td> <td> 4.23e-06</td> <td> 1.48e-05</td>\n",
              "</tr>\n",
              "</table>\n",
              "<table class=\"simpletable\">\n",
              "<tr>\n",
              "  <th>Ljung-Box (L1) (Q):</th>     <td>0.27</td> <th>  Jarque-Bera (JB):  </th> <td>0.14</td>\n",
              "</tr>\n",
              "<tr>\n",
              "  <th>Prob(Q):</th>                <td>0.61</td> <th>  Prob(JB):          </th> <td>0.93</td>\n",
              "</tr>\n",
              "<tr>\n",
              "  <th>Heteroskedasticity (H):</th> <td>3.35</td> <th>  Skew:              </th> <td>0.15</td>\n",
              "</tr>\n",
              "<tr>\n",
              "  <th>Prob(H) (two-sided):</th>    <td>0.05</td> <th>  Kurtosis:          </th> <td>3.01</td>\n",
              "</tr>\n",
              "</table><br/><br/>Warnings:<br/>[1] Covariance matrix calculated using the outer product of gradients (complex-step)."
            ]
          },
          "metadata": {},
          "execution_count": 72
        }
      ]
    },
    {
      "cell_type": "code",
      "source": [
        "pred = result.predict(40, 47, dynamic = True)"
      ],
      "metadata": {
        "colab": {
          "base_uri": "https://localhost:8080/"
        },
        "id": "HqVEhR1hP6CR",
        "outputId": "9f43f10a-a5b9-49f4-954b-1cb51e235999"
      },
      "execution_count": 89,
      "outputs": [
        {
          "output_type": "stream",
          "name": "stderr",
          "text": [
            "/usr/local/lib/python3.8/dist-packages/statsmodels/tsa/statespace/kalman_filter.py:2290: ValueWarning: Dynamic prediction specified to begin during out-of-sample forecasting period, and so has no effect.\n",
            "  warn('Dynamic prediction specified to begin during'\n"
          ]
        }
      ]
    },
    {
      "cell_type": "code",
      "source": [
        "pred"
      ],
      "metadata": {
        "colab": {
          "base_uri": "https://localhost:8080/"
        },
        "id": "QOdugtbhP9WN",
        "outputId": "f1378b54-4deb-4089-ccfc-e22e80aede24"
      },
      "execution_count": 90,
      "outputs": [
        {
          "output_type": "execute_result",
          "data": {
            "text/plain": [
              "2022-04-30    0.000240\n",
              "2022-05-31    0.000098\n",
              "2022-06-30   -0.000015\n",
              "2022-07-31   -0.000004\n",
              "2022-08-31    0.000033\n",
              "2022-09-30    0.000041\n",
              "2022-10-31    0.000032\n",
              "2022-11-30    0.000027\n",
              "Freq: M, Name: predicted_mean, dtype: float64"
            ]
          },
          "metadata": {},
          "execution_count": 90
        }
      ]
    },
    {
      "cell_type": "code",
      "source": [
        "plt.figure(figsize=(12,8))\n",
        "plt.plot(pred)\n",
        "plt.plot(stock_week)\n",
        "plt.show()"
      ],
      "metadata": {
        "colab": {
          "base_uri": "https://localhost:8080/",
          "height": 483
        },
        "id": "YhLtT-KvP9s6",
        "outputId": "1b2d2bbe-134f-4398-f8b3-bb42579ca12d"
      },
      "execution_count": 91,
      "outputs": [
        {
          "output_type": "display_data",
          "data": {
            "text/plain": [
              "<Figure size 864x576 with 1 Axes>"
            ],
            "image/png": "[encoded data removed]"
          },
          "metadata": {
            "needs_background": "light"
          }
        }
      ]
    }
  ]
}